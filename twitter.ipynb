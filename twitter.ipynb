{
  "nbformat": 4,
  "nbformat_minor": 0,
  "metadata": {
    "colab": {
      "provenance": [],
      "authorship_tag": "ABX9TyMpDaNyenJmB98bbtTga6dW",
      "include_colab_link": true
    },
    "kernelspec": {
      "name": "python3",
      "display_name": "Python 3"
    },
    "language_info": {
      "name": "python"
    }
  },
  "cells": [
    {
      "cell_type": "markdown",
      "metadata": {
        "id": "view-in-github",
        "colab_type": "text"
      },
      "source": [
        "<a href=\"https://colab.research.google.com/github/yashkumarkalyan/hateSpeech/blob/main/twitter.ipynb\" target=\"_parent\"><img src=\"https://colab.research.google.com/assets/colab-badge.svg\" alt=\"Open In Colab\"/></a>"
      ]
    },
    {
      "cell_type": "code",
      "execution_count": 32,
      "metadata": {
        "id": "NWqr-tmxfWiv"
      },
      "outputs": [],
      "source": [
        "import pandas as pd\n",
        "import numpy as np\n",
        "from sklearn.feature_extraction.text import CountVectorizer\n",
        "from sklearn.model_selection import train_test_split\n",
        "from sklearn.tree import DecisionTreeClassifier"
      ]
    },
    {
      "cell_type": "code",
      "source": [
        "import re\n",
        "import nltk"
      ],
      "metadata": {
        "id": "QcQzOBfTga-y"
      },
      "execution_count": 33,
      "outputs": []
    },
    {
      "cell_type": "code",
      "source": [
        "from nltk.util import pr\n",
        "stemmer = nltk.SnowballStemmer(\"english\")\n",
        "from nltk.corpus import stopwords\n"
      ],
      "metadata": {
        "id": "-3XaqRVgftFZ"
      },
      "execution_count": 34,
      "outputs": []
    },
    {
      "cell_type": "code",
      "source": [
        "import string\n",
        "stopword = set(stopwords.words(\"english\"))\n"
      ],
      "metadata": {
        "id": "uTmfR5D75vRP"
      },
      "execution_count": 35,
      "outputs": []
    },
    {
      "cell_type": "code",
      "source": [
        "df = pd.read_csv(\"twitter_data.csv\")"
      ],
      "metadata": {
        "id": "lVMke6-Gf-KI"
      },
      "execution_count": 36,
      "outputs": []
    },
    {
      "cell_type": "code",
      "source": [
        "print(df.head())"
      ],
      "metadata": {
        "colab": {
          "base_uri": "https://localhost:8080/"
        },
        "id": "xemZkD9GhOtu",
        "outputId": "7d627e73-b340-4c5f-e97f-ad84a8af5d6b"
      },
      "execution_count": 37,
      "outputs": [
        {
          "output_type": "stream",
          "name": "stdout",
          "text": [
            "   Unnamed: 0  count  hate_speech  offensive_language  neither  class  \\\n",
            "0           0      3            0                   0        3      2   \n",
            "1           1      3            0                   3        0      1   \n",
            "2           2      3            0                   3        0      1   \n",
            "3           3      3            0                   2        1      1   \n",
            "4           4      6            0                   6        0      1   \n",
            "\n",
            "                                               tweet  \n",
            "0  !!! RT @mayasolovely: As a woman you shouldn't...  \n",
            "1  !!!!! RT @mleew17: boy dats cold...tyga dwn ba...  \n",
            "2  !!!!!!! RT @UrKindOfBrand Dawg!!!! RT @80sbaby...  \n",
            "3  !!!!!!!!! RT @C_G_Anderson: @viva_based she lo...  \n",
            "4  !!!!!!!!!!!!! RT @ShenikaRoberts: The shit you...  \n"
          ]
        }
      ]
    },
    {
      "cell_type": "code",
      "source": [
        "df['labels'] = df['class'].map({0: 'Hate Speech',1: 'Vulgar',2:'Neither'})\n",
        "print(df.head())"
      ],
      "metadata": {
        "colab": {
          "base_uri": "https://localhost:8080/"
        },
        "id": "QyKkkcYXnoQP",
        "outputId": "5828bc38-57e2-4f22-eaf3-598b08ab9cc4"
      },
      "execution_count": 38,
      "outputs": [
        {
          "output_type": "stream",
          "name": "stdout",
          "text": [
            "   Unnamed: 0  count  hate_speech  offensive_language  neither  class  \\\n",
            "0           0      3            0                   0        3      2   \n",
            "1           1      3            0                   3        0      1   \n",
            "2           2      3            0                   3        0      1   \n",
            "3           3      3            0                   2        1      1   \n",
            "4           4      6            0                   6        0      1   \n",
            "\n",
            "                                               tweet   labels  \n",
            "0  !!! RT @mayasolovely: As a woman you shouldn't...  Neither  \n",
            "1  !!!!! RT @mleew17: boy dats cold...tyga dwn ba...   Vulgar  \n",
            "2  !!!!!!! RT @UrKindOfBrand Dawg!!!! RT @80sbaby...   Vulgar  \n",
            "3  !!!!!!!!! RT @C_G_Anderson: @viva_based she lo...   Vulgar  \n",
            "4  !!!!!!!!!!!!! RT @ShenikaRoberts: The shit you...   Vulgar  \n"
          ]
        }
      ]
    },
    {
      "cell_type": "code",
      "source": [
        "df = df[['tweet','labels']]\n",
        "print(df.head())\n"
      ],
      "metadata": {
        "colab": {
          "base_uri": "https://localhost:8080/"
        },
        "id": "6DCqseI3q591",
        "outputId": "5be37912-941e-4868-b2fe-944bab0254d6"
      },
      "execution_count": 41,
      "outputs": [
        {
          "output_type": "stream",
          "name": "stdout",
          "text": [
            "                                               tweet   labels\n",
            "0   rt mayasolov woman shouldnt complain clean ho...  Neither\n",
            "1   rt  boy dat coldtyga dwn bad cuffin dat hoe  ...   Vulgar\n",
            "2   rt urkindofbrand dawg rt  ever fuck bitch sta...   Vulgar\n",
            "3             rt cganderson vivabas look like tranni   Vulgar\n",
            "4   rt shenikarobert shit hear might true might f...   Vulgar\n"
          ]
        }
      ]
    },
    {
      "cell_type": "code",
      "source": [
        "def clean (text):\n",
        "     text = str(text).lower()\n",
        "     text = re.sub('\\[.*?\\]','',text)\n",
        "     text = re.sub('https?://\\S+|www\\.\\S+','',text)\n",
        "     text = re.sub('<.*?>+','',text)\n",
        "     text = re.sub('[%s]' % re.escape(string.punctuation),'',text)\n",
        "     text = re.sub('\\n','',text)\n",
        "     text = re.sub('\\w*\\d\\w*','',text)\n",
        "     text = [word for word in text.split(' ') if word not in stopword]\n",
        "     text =\" \".join(text)\n",
        "     text = [stemmer.stem(word) for word in text.split(' ')]\n",
        "     text =\" \".join(text)\n",
        "     return text\n",
        "df['tweet'] = df[\"tweet\"].apply(clean)\n",
        "print(df.head())"
      ],
      "metadata": {
        "colab": {
          "base_uri": "https://localhost:8080/"
        },
        "id": "0BzinvvFo5mU",
        "outputId": "ff107f92-b0e2-411a-8a84-4cca76a7eff3"
      },
      "execution_count": 42,
      "outputs": [
        {
          "output_type": "stream",
          "name": "stdout",
          "text": [
            "                                               tweet   labels\n",
            "0   rt mayasolov woman shouldnt complain clean ho...  Neither\n",
            "1   rt  boy dat coldtyga dwn bad cuffin dat hoe  ...   Vulgar\n",
            "2   rt urkindofbrand dawg rt  ever fuck bitch sta...   Vulgar\n",
            "3              rt cganderson vivaba look like tranni   Vulgar\n",
            "4   rt shenikarobert shit hear might true might f...   Vulgar\n"
          ]
        }
      ]
    },
    {
      "cell_type": "code",
      "source": [
        "x = np.array(df[\"tweet\"])\n",
        "y = np.array(df[\"labels\"])\n",
        "\n",
        "cv = CountVectorizer()\n",
        "x = cv.fit_transform(x)\n",
        "X_train, X_test, y_train, y_test = train_test_split(x, y, test_size= 0.33, random_state= 42)\n",
        "clf = DecisionTreeClassifier()\n",
        "clf.fit(X_train,y_train)"
      ],
      "metadata": {
        "colab": {
          "base_uri": "https://localhost:8080/"
        },
        "id": "E1wYMDvHk9o8",
        "outputId": "bfd72e23-03aa-44eb-e680-5d8f3741c0f3"
      },
      "execution_count": 43,
      "outputs": [
        {
          "output_type": "execute_result",
          "data": {
            "text/plain": [
              "DecisionTreeClassifier()"
            ]
          },
          "metadata": {},
          "execution_count": 43
        }
      ]
    },
    {
      "cell_type": "code",
      "source": [
        "test = \"killing, he must be a black\"\n",
        "df = cv.transform([test]).toarray()\n",
        "print(clf.predict(df))"
      ],
      "metadata": {
        "colab": {
          "base_uri": "https://localhost:8080/"
        },
        "id": "LcPUKYC0ue7e",
        "outputId": "ce2bcfed-ff9f-453d-f8ea-f83417e243f8"
      },
      "execution_count": 44,
      "outputs": [
        {
          "output_type": "stream",
          "name": "stdout",
          "text": [
            "['Neither']\n"
          ]
        }
      ]
    },
    {
      "cell_type": "code",
      "source": [
        "clf.delete_endpoint()"
      ],
      "metadata": {
        "colab": {
          "base_uri": "https://localhost:8080/",
          "height": 222
        },
        "id": "A9-0OsSQ_0X4",
        "outputId": "67d7027e-decc-4c7f-ae20-03961dc7df0a"
      },
      "execution_count": 53,
      "outputs": [
        {
          "output_type": "error",
          "ename": "AttributeError",
          "evalue": "ignored",
          "traceback": [
            "\u001b[0;31m---------------------------------------------------------------------------\u001b[0m",
            "\u001b[0;31mAttributeError\u001b[0m                            Traceback (most recent call last)",
            "\u001b[0;32m<ipython-input-53-d677fe0557df>\u001b[0m in \u001b[0;36m<module>\u001b[0;34m\u001b[0m\n\u001b[0;32m----> 1\u001b[0;31m \u001b[0mclf\u001b[0m\u001b[0;34m.\u001b[0m\u001b[0mdelete_endpoint\u001b[0m\u001b[0;34m(\u001b[0m\u001b[0;34m)\u001b[0m\u001b[0;34m\u001b[0m\u001b[0;34m\u001b[0m\u001b[0m\n\u001b[0m",
            "\u001b[0;31mAttributeError\u001b[0m: 'DecisionTreeClassifier' object has no attribute 'delete_endpoint'"
          ]
        }
      ]
    }
  ]
}