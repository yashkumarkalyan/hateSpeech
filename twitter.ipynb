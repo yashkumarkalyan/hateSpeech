{
  "nbformat": 4,
  "nbformat_minor": 0,
  "metadata": {
    "colab": {
      "provenance": [],
      "authorship_tag": "ABX9TyNWMjtJMPCJAosduhAiYKDk",
      "include_colab_link": true
    },
    "kernelspec": {
      "name": "python3",
      "display_name": "Python 3"
    },
    "language_info": {
      "name": "python"
    }
  },
  "cells": [
    {
      "cell_type": "markdown",
      "metadata": {
        "id": "view-in-github",
        "colab_type": "text"
      },
      "source": [
        "<a href=\"https://colab.research.google.com/github/yashkumarkalyan/hateSpeech/blob/main/twitter.ipynb\" target=\"_parent\"><img src=\"https://colab.research.google.com/assets/colab-badge.svg\" alt=\"Open In Colab\"/></a>"
      ]
    },
    {
      "cell_type": "code",
      "execution_count": 54,
      "metadata": {
        "id": "NWqr-tmxfWiv"
      },
      "outputs": [],
      "source": [
        "import pandas as pd\n",
        "import numpy as np\n",
        "from sklearn.feature_extraction.text import CountVectorizer\n",
        "from sklearn.model_selection import train_test_split\n",
        "from sklearn.tree import DecisionTreeClassifier"
      ]
    },
    {
      "cell_type": "code",
      "source": [
        "import re\n",
        "import nltk"
      ],
      "metadata": {
        "id": "QcQzOBfTga-y"
      },
      "execution_count": 55,
      "outputs": []
    },
    {
      "cell_type": "code",
      "source": [
        "from nltk.util import pr\n",
        "stemmer = nltk.SnowballStemmer(\"english\")\n",
        "nltk.download('stopwords')\n",
        "import string\n",
        "stopword = set(stopwords.words(\"english\"))\n"
      ],
      "metadata": {
        "colab": {
          "base_uri": "https://localhost:8080/"
        },
        "id": "-3XaqRVgftFZ",
        "outputId": "834b8f56-0f62-4040-bb02-5c49137a1d1b"
      },
      "execution_count": 56,
      "outputs": [
        {
          "output_type": "stream",
          "name": "stderr",
          "text": [
            "[nltk_data] Downloading package stopwords to /root/nltk_data...\n",
            "[nltk_data]   Package stopwords is already up-to-date!\n"
          ]
        }
      ]
    },
    {
      "cell_type": "code",
      "source": [
        "df = pd.read_csv(\"twitter_data.csv\")"
      ],
      "metadata": {
        "id": "lVMke6-Gf-KI"
      },
      "execution_count": 57,
      "outputs": []
    },
    {
      "cell_type": "code",
      "source": [
        "print(df.head())"
      ],
      "metadata": {
        "colab": {
          "base_uri": "https://localhost:8080/"
        },
        "id": "xemZkD9GhOtu",
        "outputId": "92ee4fb7-0695-47ff-e5ea-a120ec3c5705"
      },
      "execution_count": 58,
      "outputs": [
        {
          "output_type": "stream",
          "name": "stdout",
          "text": [
            "   Unnamed: 0  count  hate_speech  offensive_language  neither  class  \\\n",
            "0           0      3            0                   0        3      2   \n",
            "1           1      3            0                   3        0      1   \n",
            "2           2      3            0                   3        0      1   \n",
            "3           3      3            0                   2        1      1   \n",
            "4           4      6            0                   6        0      1   \n",
            "\n",
            "                                               tweet  \n",
            "0  !!! RT @mayasolovely: As a woman you shouldn't...  \n",
            "1  !!!!! RT @mleew17: boy dats cold...tyga dwn ba...  \n",
            "2  !!!!!!! RT @UrKindOfBrand Dawg!!!! RT @80sbaby...  \n",
            "3  !!!!!!!!! RT @C_G_Anderson: @viva_based she lo...  \n",
            "4  !!!!!!!!!!!!! RT @ShenikaRoberts: The shit you...  \n"
          ]
        }
      ]
    },
    {
      "cell_type": "code",
      "source": [
        "df['labels'] = df['class'].map({0: 'Hate Speech',1: 'Vulgar',2:'Hate Speech'})\n",
        "print(df.head())"
      ],
      "metadata": {
        "colab": {
          "base_uri": "https://localhost:8080/"
        },
        "id": "QyKkkcYXnoQP",
        "outputId": "e25b5080-f6c4-459e-d92a-a23e50529a9f"
      },
      "execution_count": 59,
      "outputs": [
        {
          "output_type": "stream",
          "name": "stdout",
          "text": [
            "   Unnamed: 0  count  hate_speech  offensive_language  neither  class  \\\n",
            "0           0      3            0                   0        3      2   \n",
            "1           1      3            0                   3        0      1   \n",
            "2           2      3            0                   3        0      1   \n",
            "3           3      3            0                   2        1      1   \n",
            "4           4      6            0                   6        0      1   \n",
            "\n",
            "                                               tweet       labels  \n",
            "0  !!! RT @mayasolovely: As a woman you shouldn't...  Hate Speech  \n",
            "1  !!!!! RT @mleew17: boy dats cold...tyga dwn ba...       Vulgar  \n",
            "2  !!!!!!! RT @UrKindOfBrand Dawg!!!! RT @80sbaby...       Vulgar  \n",
            "3  !!!!!!!!! RT @C_G_Anderson: @viva_based she lo...       Vulgar  \n",
            "4  !!!!!!!!!!!!! RT @ShenikaRoberts: The shit you...       Vulgar  \n"
          ]
        }
      ]
    },
    {
      "cell_type": "code",
      "source": [
        "df = df[['tweet','labels']]\n",
        "print(df.head())\n"
      ],
      "metadata": {
        "colab": {
          "base_uri": "https://localhost:8080/"
        },
        "id": "6DCqseI3q591",
        "outputId": "d41a2fa2-ea1f-435e-f0d6-f042942fb574"
      },
      "execution_count": 60,
      "outputs": [
        {
          "output_type": "stream",
          "name": "stdout",
          "text": [
            "                                               tweet       labels\n",
            "0  !!! RT @mayasolovely: As a woman you shouldn't...  Hate Speech\n",
            "1  !!!!! RT @mleew17: boy dats cold...tyga dwn ba...       Vulgar\n",
            "2  !!!!!!! RT @UrKindOfBrand Dawg!!!! RT @80sbaby...       Vulgar\n",
            "3  !!!!!!!!! RT @C_G_Anderson: @viva_based she lo...       Vulgar\n",
            "4  !!!!!!!!!!!!! RT @ShenikaRoberts: The shit you...       Vulgar\n"
          ]
        }
      ]
    },
    {
      "cell_type": "code",
      "source": [
        "def clean (text):\n",
        "     text = str(text).lower()\n",
        "     text = re.sub('\\[.*?\\]','',text)\n",
        "     text = re.sub('https?://\\S+|www\\.\\S+','',text)\n",
        "     text = re.sub('<.*?>+','',text)\n",
        "     text = re.sub('[%s]' % re.escape(string.punctuation),'',text)\n",
        "     text = re.sub('\\n','',text)\n",
        "     text = re.sub('\\w*\\d\\w*','',text)\n",
        "     text = [word for word in text.split(' ') if word not in stopword]\n",
        "     text =\" \".join(text)\n",
        "     text = [stemmer.stem(word) for word in text.split(' ')]\n",
        "     text =\" \".join(text)\n",
        "     return text\n",
        "df['tweet'] = df[\"tweet\"].apply(clean)\n",
        "print(df.head())"
      ],
      "metadata": {
        "colab": {
          "base_uri": "https://localhost:8080/"
        },
        "id": "0BzinvvFo5mU",
        "outputId": "357cd379-400f-4306-8c02-b971b3f06336"
      },
      "execution_count": 61,
      "outputs": [
        {
          "output_type": "stream",
          "name": "stdout",
          "text": [
            "                                               tweet       labels\n",
            "0   rt mayasolov woman shouldnt complain clean ho...  Hate Speech\n",
            "1   rt  boy dat coldtyga dwn bad cuffin dat hoe  ...       Vulgar\n",
            "2   rt urkindofbrand dawg rt  ever fuck bitch sta...       Vulgar\n",
            "3             rt cganderson vivabas look like tranni       Vulgar\n",
            "4   rt shenikarobert shit hear might true might f...       Vulgar\n"
          ]
        }
      ]
    },
    {
      "cell_type": "code",
      "source": [
        "x = np.array(df[\"tweet\"])\n",
        "y = np.array(df[\"labels\"])\n",
        "\n",
        "cv = CountVectorizer()\n",
        "x = cv.fit_transform(x)\n",
        "X_train, X_test, y_train, y_test = train_test_split(x, y, test_size= 0.33, random_state= 42)\n",
        "clf = DecisionTreeClassifier()\n",
        "clf.fit(X_train,y_train)"
      ],
      "metadata": {
        "colab": {
          "base_uri": "https://localhost:8080/"
        },
        "id": "E1wYMDvHk9o8",
        "outputId": "f4937481-7b3d-4fc7-d662-7e77a36788f1"
      },
      "execution_count": 62,
      "outputs": [
        {
          "output_type": "execute_result",
          "data": {
            "text/plain": [
              "DecisionTreeClassifier()"
            ]
          },
          "metadata": {},
          "execution_count": 62
        }
      ]
    },
    {
      "cell_type": "code",
      "source": [
        "test = \"You are a good boy\"\n",
        "df = cv.transform([test]).toarray()\n",
        "print(clf.predict(df))"
      ],
      "metadata": {
        "colab": {
          "base_uri": "https://localhost:8080/"
        },
        "id": "LcPUKYC0ue7e",
        "outputId": "befc2a68-5990-4dc5-a844-6a061dab47b0"
      },
      "execution_count": 68,
      "outputs": [
        {
          "output_type": "stream",
          "name": "stdout",
          "text": [
            "['Hate Speech']\n"
          ]
        }
      ]
    }
  ]
}